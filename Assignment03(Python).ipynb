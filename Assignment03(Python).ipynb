{
 "cells": [
  {
   "cell_type": "markdown",
   "metadata": {},
   "source": [
    "<h3>Q no 1:  Write a python program to find number of occurrences of given number in a list with out using built-in methods</h3>\n",
    "<h4>**1 generate a list of some random num which is repeated again and again</h4>\n",
    "<h4>**2 take user input any number</h4>\n",
    "<h4>**3 find the number of occurrences of that num in your list</h4>\n",
    "<h4>**4 print some message to user with that result</h4>"
   ]
  },
  {
   "cell_type": "code",
   "execution_count": 1,
   "metadata": {},
   "outputs": [
    {
     "name": "stdout",
     "output_type": "stream",
     "text": [
      "[19, 28, 2, 26, 17, 21, 10, 1, 5, 13, 15, 19, 15, 26, 20, 19, 6, 6, 20, 13, 12, 4, 29, 18, 14, 16, 6, 16, 19, 26]\n"
     ]
    }
   ],
   "source": [
    "# Generating Random Numbers Between 1 To 30\n",
    "\n",
    "import random\n",
    "\n",
    "RandomNumberList = []\n",
    "\n",
    "for i in range(0,30):\n",
    "    n = random.randint(1,30)\n",
    "    RandomNumberList.append(n)\n",
    "\n",
    "print(RandomNumberList)"
   ]
  },
  {
   "cell_type": "code",
   "execution_count": 2,
   "metadata": {},
   "outputs": [
    {
     "name": "stdout",
     "output_type": "stream",
     "text": [
      "Please Enter Any Number To Check In List : 6\n"
     ]
    }
   ],
   "source": [
    "# Taking Input From the User of Any Number\n",
    "\n",
    "Number = int(input(\"Please Enter Any Number To Check In List : \"))"
   ]
  },
  {
   "cell_type": "code",
   "execution_count": 3,
   "metadata": {},
   "outputs": [],
   "source": [
    "# Checking in Our List Whether No is Present in The List or Not\n",
    "\n",
    "Count = 0\n",
    "\n",
    "for i in range(0,30):\n",
    "    if (RandomNumberList[i] == Number):\n",
    "        Count+=1"
   ]
  },
  {
   "cell_type": "code",
   "execution_count": 4,
   "metadata": {},
   "outputs": [
    {
     "name": "stdout",
     "output_type": "stream",
     "text": [
      "The Number 6 Occurs 3 Times in the List..!\n"
     ]
    }
   ],
   "source": [
    "# Printing The Message To The User\n",
    "\n",
    "print(\"The Number\", Number, \"Occurs\", Count, \"Times in the List..!\")"
   ]
  },
  {
   "cell_type": "markdown",
   "metadata": {},
   "source": [
    "<h3>Q no 2:   [\"www.zframez.com\", \"www.wikipedia.org\", \"www.asp.net\", \"www.abcd.in\"]\n",
    "<br/><br/><br/><br/><br/>\n",
    "Write a python program to print website suffixes (com , org , net ,in) from this list\n",
    "\n",
    "Hint : Use split() method to perform this task\n",
    "</h3>\n"
   ]
  },
  {
   "cell_type": "code",
   "execution_count": 5,
   "metadata": {},
   "outputs": [
    {
     "name": "stdout",
     "output_type": "stream",
     "text": [
      "['www.zframez.com', 'www.wikipedia.org', 'www.asp.net', 'www.abcd.in']\n"
     ]
    }
   ],
   "source": [
    "# Initializing List With The Given Value\n",
    "\n",
    "Web_List = [\"www.zframez.com\", \"www.wikipedia.org\", \"www.asp.net\", \"www.abcd.in\"]\n",
    "\n",
    "print(Web_List)"
   ]
  },
  {
   "cell_type": "code",
   "execution_count": 6,
   "metadata": {},
   "outputs": [
    {
     "name": "stdout",
     "output_type": "stream",
     "text": [
      "com\n",
      "org\n",
      "net\n",
      "in\n"
     ]
    }
   ],
   "source": [
    "# Using a Loop To Split The Domains From The List\n",
    "\n",
    "for i in range(0,4):\n",
    "    print(Web_List[i].split('.')[-1])"
   ]
  },
  {
   "cell_type": "markdown",
   "metadata": {},
   "source": [
    "<h3> Q no 3 : Write a program which can compute the factorial of a given numbers.</h3>\n",
    "<br/>\n",
    "<br/>\n",
    "<h4>**1 first take user input any number</h4>\n",
    "<h4>**2 calculate factorial of that input and then print the result to user</h4>"
   ]
  },
  {
   "cell_type": "code",
   "execution_count": 7,
   "metadata": {},
   "outputs": [
    {
     "name": "stdout",
     "output_type": "stream",
     "text": [
      "Please Enter Any Number to Calculate Factorial : 5\n"
     ]
    }
   ],
   "source": [
    "# Taking Input From The User of Any Number\n",
    "\n",
    "Num = int(input(\"Please Enter Any Number to Calculate Factorial : \"))"
   ]
  },
  {
   "cell_type": "code",
   "execution_count": 8,
   "metadata": {},
   "outputs": [
    {
     "name": "stdout",
     "output_type": "stream",
     "text": [
      "120\n"
     ]
    }
   ],
   "source": [
    "# Calculating Factorial of a Input Number From Loop \n",
    "\n",
    "factorial = 1 \n",
    "\n",
    "for i in range(Num, 0, -1): \n",
    "    factorial = i*factorial\n",
    "    \n",
    "print(factorial)"
   ]
  },
  {
   "cell_type": "markdown",
   "metadata": {},
   "source": [
    "<h3>Q 4 (a) :  If you could invite anyone, living or deceased, to dinner, who\n",
    "would you invite? Make a list that includes at least three people you’d like to\n",
    "invite to dinner. Then use your list to print a message to each person, inviting\n",
    "them to dinner.</h3>"
   ]
  },
  {
   "cell_type": "code",
   "execution_count": 1,
   "metadata": {},
   "outputs": [
    {
     "name": "stdout",
     "output_type": "stream",
     "text": [
      "['Mr.Ali', 'Mr.Ahmed', 'Mr.Mustafa']\n"
     ]
    }
   ],
   "source": [
    "# Creating a Hardcode List of a Persons We Want to Invite\n",
    "\n",
    "Inv_List = [\"Mr.Ali\", \"Mr.Ahmed\", \"Mr.Mustafa\"]\n",
    "\n",
    "print(Inv_List)"
   ]
  },
  {
   "cell_type": "code",
   "execution_count": 2,
   "metadata": {},
   "outputs": [
    {
     "name": "stdout",
     "output_type": "stream",
     "text": [
      "Good Morning Mr.Ali You Are Invited For The Dinner Tonight At 9:00PM Thankyou.!\n",
      "Good Morning Mr.Ahmed You Are Invited For The Dinner Tonight At 9:00PM Thankyou.!\n",
      "Good Morning Mr.Mustafa You Are Invited For The Dinner Tonight At 9:00PM Thankyou.!\n"
     ]
    }
   ],
   "source": [
    "# Printing a Message to The Persons Present in Our List\n",
    "\n",
    "for i in range(len(Inv_List)):\n",
    "    print(\"Good Morning\", Inv_List[i], \"You Are Invited For The Dinner Tonight At 9:00PM Thankyou.!\")"
   ]
  },
  {
   "cell_type": "code",
   "execution_count": 3,
   "metadata": {},
   "outputs": [
    {
     "name": "stdout",
     "output_type": "stream",
     "text": [
      "Mr.Ali is Not Coming Due To Busy Schedule\n"
     ]
    }
   ],
   "source": [
    "# Printing The Name of A Person Who Is Not Coming \n",
    "\n",
    "NotComing = Inv_List[0]\n",
    "\n",
    "print(NotComing, \"is Not Coming Due To Busy Schedule\")"
   ]
  },
  {
   "cell_type": "markdown",
   "metadata": {},
   "source": [
    "<h3>Q 4 (b) : You just heard that one of your guests can’t make the\n",
    "dinner, so you need to send out a new set of invitations. You’ll have to think of\n",
    "someone else to invite.<br/></br><br/>\n",
    "•\t Start with your program from Q 4 (a). Add a print statement at the\n",
    "end of your program stating the name of the guest who can’t make it.<br/></br><br/>\n",
    "•\t Modify your list, replacing the name of the guest who can’t make it with\n",
    "the name of the new person you are inviting.<br/></br><br/>\n",
    "•\t Print a second set of invitation messages, one for each person who is still\n",
    "in your list.<br/></br><br/></h3>"
   ]
  },
  {
   "cell_type": "code",
   "execution_count": 4,
   "metadata": {},
   "outputs": [
    {
     "name": "stdout",
     "output_type": "stream",
     "text": [
      "['Mr.Murtaza', 'Mr.Ahmed', 'Mr.Mustafa']\n"
     ]
    }
   ],
   "source": [
    "# Modifying our List & Replace Mr.Ali To Mr.Murtaza\n",
    "\n",
    "for i in range(len(Inv_List)):\n",
    "    if (Inv_List[i] == NotComing):\n",
    "        Inv_List[i] = \"Mr.Murtaza\"\n",
    "        \n",
    "print(Inv_List)  "
   ]
  },
  {
   "cell_type": "code",
   "execution_count": 5,
   "metadata": {},
   "outputs": [
    {
     "name": "stdout",
     "output_type": "stream",
     "text": [
      "Good Morning Mr.Murtaza You Are Invited For The Dinner Tonight At 9:00PM Thankyou.!\n",
      "Good Morning Mr.Ahmed You Are Invited For The Dinner Tonight At 9:00PM Thankyou.!\n",
      "Good Morning Mr.Mustafa You Are Invited For The Dinner Tonight At 9:00PM Thankyou.!\n"
     ]
    }
   ],
   "source": [
    "# Again Printing a Message Updated List\n",
    "\n",
    "for i in range(len(Inv_List)):\n",
    "    print(\"Good Morning\", Inv_List[i], \"You Are Invited For The Dinner Tonight At 9:00PM Thankyou.!\")"
   ]
  },
  {
   "cell_type": "code",
   "execution_count": 6,
   "metadata": {},
   "outputs": [
    {
     "name": "stdout",
     "output_type": "stream",
     "text": [
      "Mr.Murtaza A Big Dinner Table is Found So Adding More Invitees in The Dinner\n",
      "Mr.Ahmed A Big Dinner Table is Found So Adding More Invitees in The Dinner\n",
      "Mr.Mustafa A Big Dinner Table is Found So Adding More Invitees in The Dinner\n"
     ]
    }
   ],
   "source": [
    "# Informing People About a Big Dinner Table\n",
    "\n",
    "for i in range(len(Inv_List)):\n",
    "    print(Inv_List[i], \"A Big Dinner Table is Found So Adding More Invitees in The Dinner\")"
   ]
  },
  {
   "cell_type": "markdown",
   "metadata": {},
   "source": [
    "<h3>Q 4 (c) : You just found a bigger dinner table, so now more space is\n",
    "available. Think of three more guests to invite to dinner.<br/></br><br/>\n",
    "•\t Start with your program from Q 4 (a) and (b) Add a print\n",
    "statement to the end of your program informing people that you found a\n",
    "bigger dinner table.<br/></br><br/>\n",
    "•\t Use insert() to add one new guest to the beginning of your list.<br/></br><br/>\n",
    "•\t Use insert() to add one new guest to the middle of your list.<br/></br><br/>\n",
    "•\t Use append() to add one new guest to the end of your list.<br/></br><br/>\n",
    "•\t Print a new set of invitation messages, one for each person in your list.<br/></br><br/></h3>"
   ]
  },
  {
   "cell_type": "code",
   "execution_count": 7,
   "metadata": {},
   "outputs": [
    {
     "name": "stdout",
     "output_type": "stream",
     "text": [
      "['Mr.Bilal', 'Mr.Murtaza', 'Mr.Ahmed', 'Mr.Mustafa']\n"
     ]
    }
   ],
   "source": [
    "# Adding New Invitee in The Beginning of List\n",
    "\n",
    "Inv_List.insert(0,\"Mr.Bilal\")\n",
    "\n",
    "print(Inv_List)"
   ]
  },
  {
   "cell_type": "code",
   "execution_count": 8,
   "metadata": {},
   "outputs": [
    {
     "name": "stdout",
     "output_type": "stream",
     "text": [
      "['Mr.Bilal', 'Mr.Murtaza', 'Mr.Kashif', 'Mr.Ahmed', 'Mr.Mustafa']\n"
     ]
    }
   ],
   "source": [
    "# Adding New Invitee in The Middle of List\n",
    "\n",
    "Inv_List.insert(2,\"Mr.Kashif\")\n",
    "\n",
    "print(Inv_List)"
   ]
  },
  {
   "cell_type": "code",
   "execution_count": 9,
   "metadata": {},
   "outputs": [
    {
     "name": "stdout",
     "output_type": "stream",
     "text": [
      "['Mr.Bilal', 'Mr.Murtaza', 'Mr.Kashif', 'Mr.Ahmed', 'Mr.Mustafa', 'Mr.Talha']\n"
     ]
    }
   ],
   "source": [
    "# Adding New Invitee in The End List\n",
    "\n",
    "Inv_List.append(\"Mr.Talha\")\n",
    "\n",
    "print(Inv_List)"
   ]
  },
  {
   "cell_type": "code",
   "execution_count": 10,
   "metadata": {},
   "outputs": [
    {
     "name": "stdout",
     "output_type": "stream",
     "text": [
      "Mr.Bilal You're invited For Dinner Tonight at 9:00PM in ABC Restaurant at Table 10 Thankyou.!\n",
      "Mr.Murtaza You're invited For Dinner Tonight at 9:00PM in ABC Restaurant at Table 10 Thankyou.!\n",
      "Mr.Kashif You're invited For Dinner Tonight at 9:00PM in ABC Restaurant at Table 10 Thankyou.!\n",
      "Mr.Ahmed You're invited For Dinner Tonight at 9:00PM in ABC Restaurant at Table 10 Thankyou.!\n",
      "Mr.Mustafa You're invited For Dinner Tonight at 9:00PM in ABC Restaurant at Table 10 Thankyou.!\n",
      "Mr.Talha You're invited For Dinner Tonight at 9:00PM in ABC Restaurant at Table 10 Thankyou.!\n"
     ]
    }
   ],
   "source": [
    "# Printing a Message To Our New Updated Invitees List\n",
    "\n",
    "for i in range(len(Inv_List)):\n",
    "    print(Inv_List[i], \"You're invited For Dinner Tonight at 9:00PM in ABC Restaurant at Table 10 Thankyou.!\")"
   ]
  },
  {
   "cell_type": "markdown",
   "metadata": {},
   "source": [
    "<h5> Q 5 : Here you have some data in variable below, your task is to make a list of specific word Surah then print the list and length of list</h5>\n"
   ]
  },
  {
   "cell_type": "code",
   "execution_count": 11,
   "metadata": {},
   "outputs": [
    {
     "name": "stdout",
     "output_type": "stream",
     "text": [
      "Sura I Who believe in the Unseen, Sura Are steadfast in prayer, And spend Sura out of what We Have provided for them\n"
     ]
    }
   ],
   "source": [
    "# Giving Information in Variable Name Data\n",
    "\n",
    "data = \"Sura I Who believe in the Unseen, Sura Are steadfast in prayer, And spend Sura out of what We Have provided for them\"\n",
    "\n",
    "print(data)"
   ]
  },
  {
   "cell_type": "code",
   "execution_count": 12,
   "metadata": {},
   "outputs": [],
   "source": [
    "# So We Separate The Strings First Present in The Variable Data\n",
    "\n",
    "data = data.split()"
   ]
  },
  {
   "cell_type": "code",
   "execution_count": 13,
   "metadata": {},
   "outputs": [
    {
     "name": "stdout",
     "output_type": "stream",
     "text": [
      "['Sura', 'Sura', 'Sura']\n",
      "The Length of The List Is 3\n"
     ]
    }
   ],
   "source": [
    "# Creating a List in Which Sura Word Were Append in The List\n",
    "\n",
    "List = []\n",
    "\n",
    "for i in data:\n",
    "    if (i == \"Sura\"):\n",
    "        List.append(i)\n",
    "        \n",
    "print(List)\n",
    "\n",
    "print(\"The Length of The List Is\" , len(List))"
   ]
  },
  {
   "cell_type": "markdown",
   "metadata": {},
   "source": [
    " <h3>Q no 6 : You have some name of cities in list named cities, Your task is to check whether Karachi is present in this list or not, if present print the index where the value Karachi is present</h3>"
   ]
  },
  {
   "cell_type": "code",
   "execution_count": 14,
   "metadata": {},
   "outputs": [
    {
     "name": "stdout",
     "output_type": "stream",
     "text": [
      "['Islamabad', 'Tokyo', 'Shanghai', 'London', 'Karachi', 'Paris', 'Sydney']\n"
     ]
    }
   ],
   "source": [
    "# Creating a List Named Cities \n",
    "\n",
    "Cities = [\"Islamabad\", \"Tokyo\", \"Shanghai\", \"London\", \"Karachi\", \"Paris\", \"Sydney\"]\n",
    "\n",
    "print(Cities)"
   ]
  },
  {
   "cell_type": "code",
   "execution_count": 15,
   "metadata": {},
   "outputs": [
    {
     "name": "stdout",
     "output_type": "stream",
     "text": [
      "Karachi is Found at The index 4\n"
     ]
    }
   ],
   "source": [
    "# Printing On Which Index Karachi is Present\n",
    "\n",
    "print(\"Karachi is Found at The index\", Cities.index(\"Karachi\"))"
   ]
  }
 ],
 "metadata": {
  "kernelspec": {
   "display_name": "Python 3",
   "language": "python",
   "name": "python3"
  },
  "language_info": {
   "codemirror_mode": {
    "name": "ipython",
    "version": 3
   },
   "file_extension": ".py",
   "mimetype": "text/x-python",
   "name": "python",
   "nbconvert_exporter": "python",
   "pygments_lexer": "ipython3",
   "version": "3.7.3"
  }
 },
 "nbformat": 4,
 "nbformat_minor": 2
}
